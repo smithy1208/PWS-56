{
 "cells": [
  {
   "cell_type": "markdown",
   "metadata": {},
   "source": [
    "# Циклы и условия"
   ]
  },
  {
   "cell_type": "markdown",
   "metadata": {},
   "source": [
    "На данном вебинаре мы:\n",
    "- рассмотрим работу с условиями\n",
    "- рассмотрим работу с циклами\n",
    "- рассмотрим зацикливание и управление циклом\n",
    "- рассмотрим вложенные циклы\n",
    "- поработаем с визуализатором"
   ]
  },
  {
   "cell_type": "markdown",
   "metadata": {},
   "source": [
    "## Условия"
   ]
  },
  {
   "cell_type": "markdown",
   "metadata": {},
   "source": [
    "Что делать, если мы хотим, чтобы наш код выполнялся только при определенных условиях? Для таких случаев в Python существуют условные операторы. Они позволяют включать в программу условия, при которых то или иное действие будет выполнено. \n",
    "\n",
    "Такие условия часто формулируются с помощью сравнения - “больше”, “меньше” или “равно”. Поэтому прежде чем перейти к условным операторам, давайте познакомимся с операторами сравнения в Python.\n"
   ]
  },
  {
   "cell_type": "markdown",
   "metadata": {},
   "source": [
    "У сравнения всегда два возможных результата - мы либо соглашаемся с утверждением (2 > 1, 1 == 1), либо отрицаем его (2 <= 1, 1 == 2). В первом случае результатом операции сравнения будет True (истина), во втором - False (ложь)."
   ]
  },
  {
   "cell_type": "markdown",
   "metadata": {},
   "source": [
    "Любопытно, что сравнивать в Python можно не только числа, но и строки.  Смотрите:\n",
    "\n",
    "'abc' < 'b'\n",
    "True\n",
    "\n",
    "'Петя' > 'Саша'\n",
    "False\n",
    "\n",
    "'123' > 'abc'\n",
    "False\n",
    "\n",
    "Как же это работает? Python пытается сравнить две строки по их первым символам согласно следующим правилам\n",
    "\n",
    "- цифра “меньше” буквы:\n",
    "\n",
    "'2' < 'a'\n",
    "True\n",
    "\n",
    "'b' < '0'\n",
    "False\n",
    "\n",
    "- из двух цифр меньше та, что обозначает меньшее число:\n",
    "\n",
    "'1' < '2'\n",
    "True\n",
    "\n",
    "'5' < '2'\n",
    "False\n",
    "\n",
    "- латинские буквы меньше кириллицы:\n",
    "\n",
    "'f' < 'ф'\n",
    "True\n",
    "\n",
    "'л' < 'l'\n",
    "False\n",
    "\n",
    "- заглавная буквы меньше строчной:\n",
    "\n",
    "'Q' < 'q'\n",
    "True\n",
    "\n",
    "'r' < 'R'\n",
    "False\n",
    "\n",
    "- из двух букв одного регистра меньше та, что раньше по алфавиту:\n",
    "\n",
    "'a' < 'b'\n",
    "True\n",
    "\n",
    "'Я' < 'Ч'\n",
    "False\n",
    "\n",
    "Если первые символы у обеих строк равны, сравнение происходит по второму символу, и так далее."
   ]
  },
  {
   "cell_type": "markdown",
   "metadata": {},
   "source": [
    "## Условный оператор if\n",
    "\n",
    "Условный оператор в Python обозначается как if (англ. если)."
   ]
  },
  {
   "cell_type": "code",
   "execution_count": null,
   "metadata": {},
   "outputs": [],
   "source": [
    "x = 100\n",
    "if x > 50:\n",
    "    print(\"Все хорошо\")"
   ]
  },
  {
   "cell_type": "markdown",
   "metadata": {},
   "source": [
    "Для случаев, когда ситуаций всего две (соблюдение и несоблюдение условий), достаточно дополнить код оператором else (англ. иначе)."
   ]
  },
  {
   "cell_type": "code",
   "execution_count": null,
   "metadata": {},
   "outputs": [],
   "source": [
    "x = 10\n",
    "if x > 50:\n",
    "    print(\"Все хорошо\")\n",
    "else:\n",
    "    print(\"Все плохо\")"
   ]
  },
  {
   "cell_type": "markdown",
   "metadata": {},
   "source": [
    "#### Задача\n",
    "\n",
    "У нас если 100 рублей. Нам для приготовления пюре необходимо купить 800 грамм картофеля. 100 грамм картофеля стоят 10 рублей. Необходимо узнать - хватит ли нам денег"
   ]
  },
  {
   "cell_type": "code",
   "execution_count": null,
   "metadata": {},
   "outputs": [],
   "source": [
    "money = 100\n",
    "price_potato = 10\n",
    "need_potato = 8\n",
    "cost_potato = price_potato * need_potato"
   ]
  },
  {
   "cell_type": "code",
   "execution_count": null,
   "metadata": {},
   "outputs": [],
   "source": [
    "if money >= cost_potato:\n",
    "    print(\"Денег хватит\")\n",
    "else:\n",
    "    print(\"Денег не хватит\")"
   ]
  },
  {
   "cell_type": "markdown",
   "metadata": {},
   "source": [
    "#### Задача\n",
    "\n",
    "Необходимо создать пароль и войти в систему. Чтобы создать пароль, нужно ввести его и затем верно повторить. Чтобы войти в систему, необходимо ввести созданный пароль"
   ]
  },
  {
   "cell_type": "code",
   "execution_count": 10,
   "metadata": {},
   "outputs": [
    {
     "name": "stdout",
     "output_type": "stream",
     "text": [
      "Придумайте пароль: 1234\n",
      "Повторите пароль: 1234\n"
     ]
    }
   ],
   "source": [
    "password = input('Придумайте пароль: ')\n",
    "password_dublicate = input('Повторите пароль: ')"
   ]
  },
  {
   "cell_type": "code",
   "execution_count": 11,
   "metadata": {},
   "outputs": [
    {
     "name": "stdout",
     "output_type": "stream",
     "text": [
      "Пароль успешно создан\n"
     ]
    }
   ],
   "source": [
    "if password == password_dublicate:\n",
    "    print('Пароль успешно создан')\n",
    "    true_password = password\n",
    "else:\n",
    "    print('Вы неверно повторили пароль')"
   ]
  },
  {
   "cell_type": "code",
   "execution_count": 14,
   "metadata": {},
   "outputs": [
    {
     "name": "stdout",
     "output_type": "stream",
     "text": [
      "Введите свой пароль: 1234\n"
     ]
    }
   ],
   "source": [
    "check_password = input('Введите свой пароль: ')"
   ]
  },
  {
   "cell_type": "code",
   "execution_count": 15,
   "metadata": {},
   "outputs": [
    {
     "name": "stdout",
     "output_type": "stream",
     "text": [
      "Вы успешно вошли в систему\n"
     ]
    }
   ],
   "source": [
    "if check_password == true_password:\n",
    "    print('Вы успешно вошли в систему')\n",
    "else:\n",
    "    print('Доступ к системе закрыт')"
   ]
  },
  {
   "cell_type": "markdown",
   "metadata": {},
   "source": [
    "#### Задача\n",
    "\n",
    "Считается, что буква \"ф\" встречается в русском языке реже всех остальных букв. Вы решили написать программу, которая позволяет пользователям вводить какие-либо слова и проверяет, можно считать это слово редким или нет. Редкими будем считать слова, которые содержат букву \"ф\"."
   ]
  },
  {
   "cell_type": "code",
   "execution_count": null,
   "metadata": {},
   "outputs": [],
   "source": [
    "word = input()\n",
    "if 'ф' in word:\n",
    "    print(word, '- редкое слово')\n",
    "else:\n",
    "    print(word, '- не очень редкое слово')"
   ]
  },
  {
   "cell_type": "markdown",
   "metadata": {},
   "source": [
    "Конечно, не всегда в наших задачах присутствует только два возможных исхода. В случае, когда нужно проверять несколько условий последовательно, на помощь приходит ещё один полезный оператор — elif. Он занимает место между if и else и может повторять действие много раз.\n"
   ]
  },
  {
   "cell_type": "markdown",
   "metadata": {},
   "source": [
    "Python будет последовательно проверять условия, следующие после if и elif, до тех пор, пока не найдет то, что выполняется, и исполнит соответствующее действие. Если же ни одно из условий не выполняется, то исполнится команда, следующая после else."
   ]
  },
  {
   "cell_type": "markdown",
   "metadata": {},
   "source": [
    "#### Задача\n",
    "\n",
    "Иногда человек хочет сходить в ресторан. Он может себе это позволить, если до зарплаты осталось пять тысяч рублей или больше. Если же у него меньше пяти тысяч, но больше 2,5 тысяч рублей, он может сходить только в фастфуд. Если меньше, то придется терпеть до зарплаты. \n",
    "\n",
    "Напишите программу, которая принимает на вход количество оставшихся денег в рублях и говорит, можно ли человеку пойти в ресторан."
   ]
  },
  {
   "cell_type": "code",
   "execution_count": null,
   "metadata": {},
   "outputs": [],
   "source": [
    "balance = int(input())\n",
    "if balance > 5000:\n",
    "    print(\"Сегодня твой выбор - ресторан!\")\n",
    "elif  2500 < balance < 5000:\n",
    "    print(\"Эх, только фастфуд.\")\n",
    "else:\n",
    "    print(\"Придётся потерпеть!\")"
   ]
  },
  {
   "cell_type": "markdown",
   "metadata": {},
   "source": [
    "Бывает, что условий несколько, но проверять их нужно не последовательно, а одновременно. В этом случае на помощь приходят логические операторы and и or, которые позволяют объединить два или более логических условия.\n",
    "При and выражение считается истинным, когда оба условия, стоящие слева и справа от этого оператора, соблюдены. В противном случае выражение считается ложным.\n",
    "\n",
    "При or выражение считается истинным, если соблюдено хотя бы одно из двух условий, стоящих слева и справа от оператора."
   ]
  },
  {
   "cell_type": "markdown",
   "metadata": {},
   "source": [
    "#### Задача\n",
    "\n",
    "Введите номер месяца, в котором вы родились. Система должна вывести время года, к которому относится данный месяц"
   ]
  },
  {
   "cell_type": "code",
   "execution_count": null,
   "metadata": {},
   "outputs": [],
   "source": [
    "month = int(input('Введите номер месяца, в котором вы родились: '))\n",
    "if month == 3 or month == 4 or month == 5:\n",
    "    print('Вы родились весной')\n",
    "elif month == 6 or month == 7 or month == 8:\n",
    "    print('Вы родились летом')\n",
    "elif month == 9 or month == 10 or month == 11:\n",
    "    print('Вы родились осенью')\n",
    "elif month == 12 or month == 1 or month == 2:\n",
    "    print('Вы родились зимой')\n",
    "else:\n",
    "    print('Нет такого номера месяца')"
   ]
  },
  {
   "cell_type": "markdown",
   "metadata": {},
   "source": [
    "Эту же задачу можно решить, написав код вместительнее через оператор and"
   ]
  },
  {
   "cell_type": "code",
   "execution_count": null,
   "metadata": {},
   "outputs": [],
   "source": [
    "month = int(input('Введите номер месяца, в котором вы родились: '))\n",
    "if month >= 3 and month <= 5:\n",
    "    print('Вы родились весной')\n",
    "elif month >= 6 and month <= 8:\n",
    "    print('Вы родились летом')\n",
    "elif month >= 9 and month <= 11:\n",
    "    print('Вы родились осенью')\n",
    "elif month == 12 or month >= 1 and month <= 2:\n",
    "    print('Вы родились зимой')\n",
    "else:\n",
    "    print('Нет такого номера месяца')"
   ]
  },
  {
   "cell_type": "markdown",
   "metadata": {},
   "source": [
    "Еще один вариант, как записать данную задачу, этот вариант без использования составных операторов (почти)"
   ]
  },
  {
   "cell_type": "code",
   "execution_count": null,
   "metadata": {},
   "outputs": [],
   "source": [
    "month = int(input('Введите номер месяца, в котором вы родились: '))\n",
    "if 3 <= month <= 5:\n",
    "    print('Вы родились весной')\n",
    "elif 6 <= month <= 8:\n",
    "    print('Вы родились летом')\n",
    "elif 9 <= month <= 11:\n",
    "    print('Вы родились осенью')\n",
    "elif month == 12 or 1 <= month <= 2:\n",
    "    print('Вы родились зимой')\n",
    "else:\n",
    "    print('Нет такого номера месяца')"
   ]
  },
  {
   "cell_type": "markdown",
   "metadata": {},
   "source": [
    "## Циклы"
   ]
  },
  {
   "cell_type": "markdown",
   "metadata": {},
   "source": [
    "До этого наши программы выполняли код 1 раз. Что делать, если нам нужно выполнить код несколько раз?"
   ]
  },
  {
   "cell_type": "markdown",
   "metadata": {},
   "source": [
    "Мы можем написать наш код несколько раз"
   ]
  },
  {
   "cell_type": "markdown",
   "metadata": {},
   "source": [
    "#### Задача\n",
    "\n",
    "Теперь у нас есть 1000 рублей. Мы накупили много всего (много-всего задано в виде словаря продукт:стоимость). Теперь мы решили посчитать наши расходы и понять - сколько у нас осталось денег"
   ]
  },
  {
   "cell_type": "code",
   "execution_count": null,
   "metadata": {},
   "outputs": [],
   "source": [
    "product = {'морковь' : 100, 'помидоры' : 250, 'огурцы' : 95, 'авокадо' : 400, 'редиска' : 150}\n",
    "money = 1000\n",
    "money_left = money\n",
    "\n",
    "money_left = money_left - product['морковь']\n",
    "money_left = money_left - product['помидоры']\n",
    "money_left = money_left - product['огурцы']\n",
    "money_left = money_left - product['авокадо']\n",
    "money_left = money_left - product['редиска']\n",
    "print(money_left)"
   ]
  },
  {
   "cell_type": "markdown",
   "metadata": {},
   "source": [
    "Не очень удобно, а если у нас было бы 100 продуктов, пришлось бы написать на 95 строчек больше. Чтобы облегчить задачу, мы будем пользоваться циклами"
   ]
  },
  {
   "cell_type": "markdown",
   "metadata": {},
   "source": [
    "В Python существует два вида цикла:\n",
    "- цикл while (англ. пока) позволяет выполнить одну и ту же последовательность действий, пока выполняется какое-либо условие. Такой цикл используется, когда мы точно не знаем точное число итераций, которое необходимо выполнить.\n",
    "- цикл for (англ. для) позволяет выполнить одно и то же же действие заданное количество раз\n"
   ]
  },
  {
   "cell_type": "markdown",
   "metadata": {},
   "source": [
    "В данной задаче мы знали, сколько раз мы будем выполнять условие, перепишем задачу с использованием цикла"
   ]
  },
  {
   "cell_type": "code",
   "execution_count": null,
   "metadata": {},
   "outputs": [],
   "source": [
    "product = {'морковь' : 100, 'помидоры' : 250, 'огурцы' : 95, 'авокадо' : 400, 'редиска' : 150}\n",
    "money = 1000\n",
    "money_left = money\n",
    "\n",
    "for i in product.values():\n",
    "    money_left = money_left - i\n",
    "print(money_left)"
   ]
  },
  {
   "cell_type": "code",
   "execution_count": null,
   "metadata": {},
   "outputs": [],
   "source": [
    "string = 'Hello world!'\n",
    "\n",
    "for i in string:\n",
    "    print(i)"
   ]
  },
  {
   "cell_type": "markdown",
   "metadata": {},
   "source": [
    "#### Задача\n",
    "\n",
    "Введите целое число и выведите все делители данного числа (кроме 1) "
   ]
  },
  {
   "cell_type": "code",
   "execution_count": null,
   "metadata": {},
   "outputs": [],
   "source": [
    "number = int(input())\n",
    "for i in range(2, number + 1):\n",
    "    if number % i == 0:\n",
    "        print(i)"
   ]
  },
  {
   "cell_type": "markdown",
   "metadata": {},
   "source": [
    "Как работает функция под названием range? Простыми словами, range() позволяет вам генерировать ряд чисел в рамках заданного диапазона. В зависимости от того, как много аргументов вы передаете функции, вы можете решить, где этот ряд чисел начнется и закончится, а также сможете определить величину хода цикла\n",
    "\n",
    "Есть три способа вызова range():\n",
    "\n",
    "- range(стоп) берет один аргумент\n",
    "- range(старт, стоп) берет два аргумента\n",
    "- range(старт, стоп, шаг) берет три аргумента"
   ]
  },
  {
   "cell_type": "code",
   "execution_count": null,
   "metadata": {},
   "outputs": [],
   "source": [
    "for x in range(5):\n",
    "    print(x)"
   ]
  },
  {
   "cell_type": "code",
   "execution_count": null,
   "metadata": {},
   "outputs": [],
   "source": [
    "for x in range(2, 5):\n",
    "    print(x)"
   ]
  },
  {
   "cell_type": "code",
   "execution_count": null,
   "metadata": {},
   "outputs": [],
   "source": [
    "for x in range(1, 10, 2):\n",
    "    print(x)"
   ]
  },
  {
   "cell_type": "markdown",
   "metadata": {},
   "source": [
    "#### Задача\n",
    "\n",
    "Вы решили написать программу, которая выявляет високосные года в диапазоне лет. Программа должна выводит каждый год диапазона"
   ]
  },
  {
   "cell_type": "code",
   "execution_count": null,
   "metadata": {},
   "outputs": [],
   "source": [
    "year_1 = int(input())\n",
    "year_2 = int(input())\n",
    "for i in range(year_1, year_2 + 1):\n",
    "    if i % 400 == 0 or (i % 4 == 0 and i % 100 != 0):\n",
    "        print(i, \"год високосный\")\n",
    "    else:\n",
    "        print(i, \"год невисокосный\")"
   ]
  },
  {
   "cell_type": "markdown",
   "metadata": {},
   "source": [
    "Цикл while - переводится как \"пока\" или если точнее \"до тех пор пока\".\n"
   ]
  },
  {
   "cell_type": "markdown",
   "metadata": {},
   "source": [
    "#### Задача\n",
    "\n",
    "Мы пишем очень большое слово по букве или по несколько букв. У нас есть одно правило - пока мы не напишем 'ь', слово не заканчивается, и мы обязаны продолжать писать это слово"
   ]
  },
  {
   "cell_type": "code",
   "execution_count": 32,
   "metadata": {},
   "outputs": [
    {
     "name": "stdout",
     "output_type": "stream",
     "text": [
      "Введите букву или несколько букв\n",
      "Введите букву или несколько буквh\n",
      "Введите букву или несколько буквыававыывыв\n",
      "Введите букву или несколько буквыавыаываь\n",
      "Введите букву или несколько буквь\n",
      "hыававыывывыавыаываьь\n"
     ]
    }
   ],
   "source": [
    "word = ''\n",
    "letter = ''\n",
    "while letter != 'ь':\n",
    "    letter = input('Введите букву или несколько букв')\n",
    "    word += letter\n",
    "print(word)"
   ]
  },
  {
   "cell_type": "markdown",
   "metadata": {},
   "source": [
    "Как и вы условиях мы можем использовать оператор else, но в условиях else выполнялся в случае невыполнения условия под оператором if, а для цикла while он выполняется сразу после невыполнения условия цикла"
   ]
  },
  {
   "cell_type": "markdown",
   "metadata": {},
   "source": [
    "#### Задача\n",
    "\n",
    "Вы копите деньги на новую игровую приставку, она стоит 47500 рублей. Каждый месяц вы откладываете 10 тысяч рублей. Напишите радостное сообщение, когда накопите на свою цель"
   ]
  },
  {
   "cell_type": "code",
   "execution_count": null,
   "metadata": {},
   "outputs": [],
   "source": [
    "XStation = 47500\n",
    "piggy_bank = 0\n",
    "while XStation >= piggy_bank:\n",
    "    piggy_bank += int(input('За этот месяц я накопил '))\n",
    "    print('В копилке сейчас ', piggy_bank)\n",
    "print('Ура, я накопил на XStation!!!')"
   ]
  },
  {
   "cell_type": "markdown",
   "metadata": {},
   "source": [
    "Что было, если бы мы не откладывали деньги на игровую приставку? Мы бы все время оставались в цикле, не копили бы, при этом программа не выпускала бы нас из цикла"
   ]
  },
  {
   "cell_type": "code",
   "execution_count": null,
   "metadata": {},
   "outputs": [],
   "source": [
    "XStation = 47500\n",
    "piggy_bank = 0\n",
    "while XStation >= piggy_bank:\n",
    "    print('За этот месяц я накопил 0')\n",
    "    piggy_bank += 0\n",
    "else:\n",
    "    print('Ура, я накопил на XStation!!!')"
   ]
  },
  {
   "cell_type": "markdown",
   "metadata": {},
   "source": [
    "Происходит зацикливание. Мы остаемся в цикле, пока не отменим код совсем. Мы можем исправить данную задачу с помощью оператора break. Добавим его вместе с новым условием подсчета месяцев, которые мы копим"
   ]
  },
  {
   "cell_type": "code",
   "execution_count": null,
   "metadata": {},
   "outputs": [],
   "source": [
    "XStation = 47500\n",
    "piggy_bank = 0\n",
    "month = 0\n",
    "while XStation >= piggy_bank:\n",
    "    month += 1\n",
    "    piggy_bank += 0\n",
    "    if month == 10:\n",
    "        print(\"Я не умею копить деньги:(\")\n",
    "        break\n",
    "else:\n",
    "    print('Ура, я накопил на XStation!!!')"
   ]
  },
  {
   "cell_type": "markdown",
   "metadata": {},
   "source": [
    "Когда мы знакомимся с оператором break возникает мысль - а если я не хочу останавливать цикл, но мне не нравится данная итерация? Тогда будем пользоваться еще одним оператором - continue"
   ]
  },
  {
   "cell_type": "markdown",
   "metadata": {},
   "source": [
    "#### Задача\n",
    "\n",
    "Напишите все числа от 0 до 30 кроме 15"
   ]
  },
  {
   "cell_type": "code",
   "execution_count": null,
   "metadata": {},
   "outputs": [],
   "source": [
    "for x in range(30):\n",
    "    if x == 15:\n",
    "        continue\n",
    "    print(x)"
   ]
  },
  {
   "cell_type": "markdown",
   "metadata": {},
   "source": [
    "#### Задача со вложенными конструкциями"
   ]
  },
  {
   "cell_type": "code",
   "execution_count": null,
   "metadata": {},
   "outputs": [],
   "source": [
    "csv_dict = [\n",
    "    {'id': '100412', 'position': 'Ботинки для горных лыж ATOMIC Hawx Prime 100', 'count': 9},\n",
    "    {'id': '100728', 'position': 'Скейтборд Jdbug RT03', 'count': 32},\n",
    "    {'id': '100732', 'position': 'Роллерсерф Razor RipStik Bright', 'count': 11},\n",
    "    {'id': '100803', 'position': 'Ботинки для сноуборда DC Tucknee', 'count': 20},\n",
    "    {'id': '100898', 'position': 'Шагомер Omron HJA-306', 'count': 2},\n",
    "    {'id': '100934', 'position': 'Пульсометр Beurer PM62', 'count': 17},\n",
    "]\n",
    "csv_dict_boots=[]\n",
    "for record in csv_dict:\n",
    "    if 'Ботинки' in record['position']:\n",
    "        csv_dict_boots.append(record)\n",
    "csv_dict_boots"
   ]
  },
  {
   "cell_type": "markdown",
   "metadata": {},
   "source": [
    "#### Задача на вложенные циклы\n",
    "\n",
    "Программа ищет в холодильнике тот продукт, который мы задаем, затем пишет, на какой полке продукт."
   ]
  },
  {
   "cell_type": "code",
   "execution_count": null,
   "metadata": {},
   "outputs": [],
   "source": [
    "product = input()\n",
    "fridge = [[\"помидоры\", \"огурцы\", \"свекла\"], [\"масло\", \"йогурт\", \"сыр\"], [\"паштет\", \"колбаса\"], [\"соленья\"], \"варенье\"]\n",
    "for i in range(len(fridge)):\n",
    "    for j in range(len(fridge[i])):\n",
    "        if fridge[i][j] == product:\n",
    "            print(product, 'лежит на', str(i+1), 'полке')\n",
    "            break\n",
    "else:\n",
    "    print(product, \"не лежит в холодильнике\")"
   ]
  },
  {
   "cell_type": "markdown",
   "metadata": {},
   "source": [
    "### Визуализатор Python\n",
    "\n",
    "http://pythontutor.com/visualize.html#mode=edit"
   ]
  },
  {
   "cell_type": "code",
   "execution_count": null,
   "metadata": {},
   "outputs": [],
   "source": [
    "string = 'Это просто предложение со словами яблоко и банан'\n",
    "letters = 'аеёиоуыэюя'\n",
    "list_string = string.split()"
   ]
  },
  {
   "cell_type": "code",
   "execution_count": null,
   "metadata": {},
   "outputs": [],
   "source": [
    "list_string"
   ]
  },
  {
   "cell_type": "code",
   "execution_count": null,
   "metadata": {},
   "outputs": [],
   "source": [
    "for word in list_string:\n",
    "    if word[0] in letters:\n",
    "        continue\n",
    "    print(word)"
   ]
  },
  {
   "cell_type": "code",
   "execution_count": null,
   "metadata": {},
   "outputs": [],
   "source": [
    "list_string"
   ]
  },
  {
   "cell_type": "code",
   "execution_count": null,
   "metadata": {},
   "outputs": [],
   "source": [
    "string = 'Это просто предложение со словами яблоко и банан'\n",
    "letters = 'аеёиоуыэюя'\n",
    "list_string = string.split()\n",
    "for word in list_string:\n",
    "    if word[0] in letters:\n",
    "        continue\n",
    "    print(word)"
   ]
  }
 ],
 "metadata": {
  "kernelspec": {
   "display_name": "Python 3",
   "language": "python",
   "name": "python3"
  },
  "language_info": {
   "codemirror_mode": {
    "name": "ipython",
    "version": 3
   },
   "file_extension": ".py",
   "mimetype": "text/x-python",
   "name": "python",
   "nbconvert_exporter": "python",
   "pygments_lexer": "ipython3",
   "version": "3.7.1"
  }
 },
 "nbformat": 4,
 "nbformat_minor": 4
}
